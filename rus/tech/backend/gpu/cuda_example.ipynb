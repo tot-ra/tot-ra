{
  "nbformat": 4,
  "nbformat_minor": 0,
  "metadata": {
    "colab": {
      "provenance": [],
      "gpuType": "T4"
    },
    "kernelspec": {
      "name": "python3",
      "display_name": "Python 3"
    },
    "language_info": {
      "name": "python"
    },
    "accelerator": "GPU"
  },
  "cells": [
    {
      "cell_type": "code",
      "execution_count": 1,
      "metadata": {
        "colab": {
          "base_uri": "https://localhost:8080/"
        },
        "id": "o-k9ZwDnuwsF",
        "outputId": "93e2b0fc-a874-4165-c9ba-21776b7cdf66"
      },
      "outputs": [
        {
          "output_type": "stream",
          "name": "stdout",
          "text": [
            "nvcc: NVIDIA (R) Cuda compiler driver\n",
            "Copyright (c) 2005-2023 NVIDIA Corporation\n",
            "Built on Tue_Aug_15_22:02:13_PDT_2023\n",
            "Cuda compilation tools, release 12.2, V12.2.140\n",
            "Build cuda_12.2.r12.2/compiler.33191640_0\n"
          ]
        }
      ],
      "source": [
        "!nvcc --version"
      ]
    },
    {
      "cell_type": "code",
      "source": [
        "!pip install nvcc4jupyter"
      ],
      "metadata": {
        "colab": {
          "base_uri": "https://localhost:8080/"
        },
        "id": "SVH0gavZu_VD",
        "outputId": "669892d0-78ce-47db-a02a-18262c7593fc"
      },
      "execution_count": 2,
      "outputs": [
        {
          "output_type": "stream",
          "name": "stdout",
          "text": [
            "Collecting nvcc4jupyter\n",
            "  Downloading nvcc4jupyter-1.2.1-py3-none-any.whl.metadata (5.1 kB)\n",
            "Downloading nvcc4jupyter-1.2.1-py3-none-any.whl (10 kB)\n",
            "Installing collected packages: nvcc4jupyter\n",
            "Successfully installed nvcc4jupyter-1.2.1\n"
          ]
        }
      ]
    },
    {
      "cell_type": "code",
      "source": [
        "%load_ext nvcc4jupyter"
      ],
      "metadata": {
        "colab": {
          "base_uri": "https://localhost:8080/"
        },
        "id": "Bj-oscR1vBYO",
        "outputId": "c9b7e3cb-e19c-400e-f3e9-366a719c1462"
      },
      "execution_count": 3,
      "outputs": [
        {
          "output_type": "stream",
          "name": "stdout",
          "text": [
            "Detected platform \"Colab\". Running its setup...\n",
            "Source files will be saved in \"/tmp/tmpyemc_15p\".\n"
          ]
        }
      ]
    },
    {
      "cell_type": "code",
      "source": [
        "%%cuda\n",
        "#include <iostream>\n",
        "    int\n",
        "    main()\n",
        "{\n",
        "    std::cout << \"Welcome To GeeksforGeeks\\n\";\n",
        "    return 0;\n",
        "}"
      ],
      "metadata": {
        "colab": {
          "base_uri": "https://localhost:8080/"
        },
        "id": "qkVC8c32vElX",
        "outputId": "a796c8ca-658f-46d8-ff46-16305d71f691"
      },
      "execution_count": 4,
      "outputs": [
        {
          "output_type": "stream",
          "name": "stdout",
          "text": [
            "Welcome To GeeksforGeeks\n",
            "\n"
          ]
        }
      ]
    },
    {
      "cell_type": "code",
      "source": [
        "%%cuda\n",
        "#include <cstdio>\n",
        "#include <iostream>\n",
        "\n",
        "    using namespace std;\n",
        "\n",
        "__global__ void maxi(int* a, int* b, int n)\n",
        "{\n",
        "    int block = 256 * blockIdx.x;\n",
        "    int max = 0;\n",
        "\n",
        "    for (int i = block; i < min(256 + block, n); i++) {\n",
        "\n",
        "        if (max < a[i]) {\n",
        "            max = a[i];\n",
        "        }\n",
        "    }\n",
        "    b[blockIdx.x] = max;\n",
        "}\n",
        "\n",
        "int main()\n",
        "{\n",
        "\n",
        "    int n;\n",
        "    n = 1000; // 3 >> 2;\n",
        "    int a[n];\n",
        "\n",
        "    for (int i = 0; i < n; i++) {\n",
        "        a[i] = rand() % n;\n",
        "        cout << a[i] << \"\\t\";\n",
        "    }\n",
        "\n",
        "    cudaEvent_t start, end;\n",
        "    int *ad, *bd;\n",
        "    int size = n * sizeof(int);\n",
        "    cudaMalloc(&ad, size);\n",
        "    cudaMemcpy(ad, a, size, cudaMemcpyHostToDevice);\n",
        "    int grids = ceil(n * 1.0f / 256.0f);\n",
        "    cudaMalloc(&bd, grids * sizeof(int));\n",
        "\n",
        "    dim3 grid(grids, 1);\n",
        "    dim3 block(1, 1);\n",
        "\n",
        "    cudaEventCreate(&start);\n",
        "    cudaEventCreate(&end);\n",
        "    cudaEventRecord(start);\n",
        "\n",
        "    while (n > 1) {\n",
        "        maxi<<<grids, block>>>(ad, bd, n);\n",
        "        n = ceil(n * 1.0f / 256.0f);\n",
        "        cudaMemcpy(ad, bd, n * sizeof(int), cudaMemcpyDeviceToDevice);\n",
        "    }\n",
        "\n",
        "    cudaEventRecord(end);\n",
        "    cudaEventSynchronize(end);\n",
        "\n",
        "    float time = 0;\n",
        "    cudaEventElapsedTime(&time, start, end);\n",
        "\n",
        "    int ans[2];\n",
        "    cudaMemcpy(ans, ad, 4, cudaMemcpyDeviceToHost);\n",
        "\n",
        "    cout << \"The maximum element is : \" << ans[0] << endl;\n",
        "\n",
        "    cout << \"The time required : \";\n",
        "    cout << time << endl;\n",
        "}\n"
      ],
      "metadata": {
        "colab": {
          "base_uri": "https://localhost:8080/"
        },
        "id": "jljf3aZkvKLY",
        "outputId": "4c326c80-67a3-4d5f-e056-c83d6f0d2b11"
      },
      "execution_count": 6,
      "outputs": [
        {
          "output_type": "stream",
          "name": "stdout",
          "text": [
            "383\t886\t777\t915\t793\t335\t386\t492\t649\t421\t362\t27\t690\t59\t763\t926\t540\t426\t172\t736\t211\t368\t567\t429\t782\t530\t862\t123\t67\t135\t929\t802\t22\t58\t69\t167\t393\t456\t11\t42\t229\t373\t421\t919\t784\t537\t198\t324\t315\t370\t413\t526\t91\t980\t956\t873\t862\t170\t996\t281\t305\t925\t84\t327\t336\t505\t846\t729\t313\t857\t124\t895\t582\t545\t814\t367\t434\t364\t43\t750\t87\t808\t276\t178\t788\t584\t403\t651\t754\t399\t932\t60\t676\t368\t739\t12\t226\t586\t94\t539\t795\t570\t434\t378\t467\t601\t97\t902\t317\t492\t652\t756\t301\t280\t286\t441\t865\t689\t444\t619\t440\t729\t31\t117\t97\t771\t481\t675\t709\t927\t567\t856\t497\t353\t586\t965\t306\t683\t219\t624\t528\t871\t732\t829\t503\t19\t270\t368\t708\t715\t340\t149\t796\t723\t618\t245\t846\t451\t921\t555\t379\t488\t764\t228\t841\t350\t193\t500\t34\t764\t124\t914\t987\t856\t743\t491\t227\t365\t859\t936\t432\t551\t437\t228\t275\t407\t474\t121\t858\t395\t29\t237\t235\t793\t818\t428\t143\t11\t928\t529\t776\t404\t443\t763\t613\t538\t606\t840\t904\t818\t128\t688\t369\t917\t917\t996\t324\t743\t470\t183\t490\t499\t772\t725\t644\t590\t505\t139\t954\t786\t669\t82\t542\t464\t197\t507\t355\t804\t348\t611\t622\t828\t299\t343\t746\t568\t340\t422\t311\t810\t605\t801\t661\t730\t878\t305\t320\t736\t444\t626\t522\t465\t708\t416\t282\t258\t924\t637\t62\t624\t600\t36\t452\t899\t379\t550\t468\t71\t973\t131\t881\t930\t933\t894\t660\t163\t199\t981\t899\t996\t959\t773\t813\t668\t190\t95\t926\t466\t84\t340\t90\t684\t376\t542\t936\t107\t445\t756\t179\t418\t887\t412\t348\t172\t659\t9\t336\t210\t342\t587\t206\t301\t713\t372\t321\t255\t819\t599\t721\t904\t939\t811\t940\t667\t705\t228\t127\t150\t984\t658\t920\t224\t422\t269\t396\t81\t630\t84\t292\t972\t672\t850\t625\t385\t222\t299\t640\t42\t898\t713\t298\t190\t524\t590\t209\t581\t819\t336\t732\t155\t994\t4\t379\t769\t273\t776\t850\t255\t860\t142\t579\t884\t993\t205\t621\t567\t504\t613\t961\t754\t326\t259\t944\t202\t202\t506\t784\t21\t842\t868\t528\t189\t872\t908\t958\t498\t36\t808\t753\t248\t303\t333\t133\t648\t890\t754\t567\t746\t368\t529\t500\t46\t788\t797\t249\t990\t303\t33\t363\t497\t253\t892\t686\t125\t152\t996\t975\t188\t157\t729\t436\t460\t414\t921\t460\t304\t28\t27\t50\t748\t556\t902\t794\t697\t699\t43\t39\t2\t428\t403\t500\t681\t647\t538\t159\t151\t535\t134\t339\t692\t215\t127\t504\t629\t49\t964\t285\t429\t343\t335\t177\t900\t238\t971\t949\t289\t367\t988\t292\t795\t743\t144\t829\t390\t682\t340\t541\t569\t826\t232\t261\t42\t360\t117\t23\t761\t81\t309\t190\t425\t996\t367\t677\t234\t690\t626\t524\t57\t614\t168\t205\t358\t312\t386\t100\t346\t726\t994\t916\t552\t578\t529\t946\t290\t647\t970\t51\t80\t631\t593\t857\t627\t312\t886\t214\t355\t512\t90\t412\t479\t610\t969\t189\t274\t355\t641\t620\t433\t987\t888\t338\t566\t770\t284\t856\t417\t606\t260\t849\t237\t205\t59\t217\t518\t945\t783\t873\t458\t873\t637\t289\t483\t607\t478\t757\t314\t471\t729\t100\t459\t618\t438\t25\t388\t74\t233\t157\t681\t493\t358\t270\t699\t417\t839\t569\t363\t622\t794\t173\t847\t431\t462\t682\t390\t292\t791\t57\t115\t521\t157\t574\t491\t947\t951\t231\t21\t537\t740\t54\t30\t98\t325\t81\t516\t516\t2\t231\t139\t796\t404\t338\t580\t218\t21\t970\t862\t812\t379\t977\t685\t536\t904\t176\t483\t207\t759\t857\t744\t499\t911\t127\t950\t236\t560\t818\t105\t563\t49\t244\t711\t805\t934\t291\t375\t955\t614\t589\t768\t993\t918\t805\t882\t822\t982\t717\t30\t93\t574\t126\t593\t486\t253\t543\t74\t814\t713\t179\t377\t762\t775\t88\t919\t710\t732\t294\t17\t346\t235\t137\t691\t153\t943\t573\t328\t925\t291\t710\t18\t217\t836\t963\t55\t90\t858\t130\t904\t571\t661\t633\t685\t789\t73\t604\t851\t805\t250\t868\t503\t485\t6\t195\t639\t949\t120\t967\t226\t763\t677\t596\t981\t865\t560\t36\t955\t770\t518\t211\t342\t532\t196\t379\t321\t270\t984\t172\t427\t234\t40\t283\t72\t398\t830\t63\t347\t950\t30\t573\t714\t59\t522\t47\t924\t82\t435\t232\t204\t954\t443\t898\t486\t640\t278\t159\t262\t262\t683\t41\t848\t723\t324\t272\t122\t154\t335\t821\t457\t365\t747\t171\t776\t269\t218\t701\t703\t653\t933\t907\t959\t728\t806\t797\t720\t84\t308\t334\t698\t991\t376\t898\t715\t52\t171\t189\t559\t506\t10\t16\t224\t109\t539\t0\t378\t109\t53\t81\t114\t338\t989\t426\t67\t147\t223\t787\t231\t532\t122\t281\t875\t850\t179\t590\t254\t350\t131\t813\t857\t494\t181\t81\t603\t720\t433\t982\t181\t487\t415\t296\t825\t404\t722\t892\t551\t297\t32\t134\t181\t506\t415\t57\t708\t595\t999\t962\t297\t483\t776\t154\t977\t309\t587\t932\t382\t21\t266\t563\t860\t682\t211\t685\t86\t285\t930\t990\t583\t314\t476\t116\t820\t892\t525\t528\t839\t525\t490\t136\t360\t618\t643\t337\t928\t582\t621\t310\t955\t888\t225\t815\t570\t437\t853\t8\t722\t783\t350\t657\t97\t827\t126\t269\t71\t651\t149\t910\t528\t639\t398\t888\t610\t393\t577\t890\t976\t199\t552\t931\t87\t777\t99\t657\t566\t952\t17\t641\t735\t368\t298\t184\t195\t776\t805\t266\t428\t954\t528\t308\t593\t278\t197\t555\t672\t774\t445\t0\t325\t997\t283\t412\t127\t382\t421\tThe maximum element is : 999\n",
            "The time required : 130.048\n",
            "\n"
          ]
        }
      ]
    }
  ]
}